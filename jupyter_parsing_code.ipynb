{
 "cells": [
  {
   "cell_type": "code",
   "execution_count": 1,
   "metadata": {},
   "outputs": [],
   "source": [
    "'''\n",
    "Referred to:\n",
    "    - https://jmscslgroup.github.io/bagpy/bagpy_example.html\n",
    "\n",
    "If you run into an error, try:\n",
    "    pip uninstall numpy\n",
    "    pip install \"numpy<2.0\"\n",
    "    python -c \"import numpy; print(numpy.__version__)\" \n",
    "        Should say 1.26.4\n",
    "\n",
    "Only if that doesn't work, also try:\n",
    "    pip install pandas==2.2.2\n",
    "    pip install scipy==1.12.0\n",
    "    python -m pip install seaborn\n",
    "    python -m pip install pandas\n",
    "'''\n",
    "\n",
    "#Import the following libraries\n",
    "import bagpy\n",
    "from bagpy import bagreader\n",
    "import pandas as pd\n",
    "import seaborn as sea\n",
    "import matplotlib.pyplot as plt\n",
    "import numpy as np\n",
    "import time"
   ]
  },
  {
   "cell_type": "code",
   "execution_count": 2,
   "metadata": {},
   "outputs": [
    {
     "name": "stdout",
     "output_type": "stream",
     "text": [
      "[INFO]  Successfully created the data folder mapping_van_2024-06-20-15-25-21_0.\n",
      "File saved: mapping_van_2024-06-20-15-25-21_0/DIAG_SparkFun_RearLeft.csv\n",
      "File saved: mapping_van_2024-06-20-15-25-21_0/DIAG_SparkFun_RearRight.csv\n",
      "File saved: mapping_van_2024-06-20-15-25-21_0/Encoder_diag.csv\n",
      "File saved: mapping_van_2024-06-20-15-25-21_0/GPS_SparkFun_Front_GGA.csv\n",
      "File saved: mapping_van_2024-06-20-15-25-21_0/GPS_SparkFun_Front_VTG.csv\n",
      "File saved: mapping_van_2024-06-20-15-25-21_0/GPS_SparkFun_RearLeft_GGA.csv\n",
      "File saved: mapping_van_2024-06-20-15-25-21_0/GPS_SparkFun_RearLeft_GST.csv\n",
      "File saved: mapping_van_2024-06-20-15-25-21_0/GPS_SparkFun_RearLeft_VTG.csv\n",
      "File saved: mapping_van_2024-06-20-15-25-21_0/GPS_SparkFun_RearRight_GGA.csv\n",
      "File saved: mapping_van_2024-06-20-15-25-21_0/GPS_SparkFun_RearRight_GST.csv\n",
      "File saved: mapping_van_2024-06-20-15-25-21_0/GPS_SparkFun_RearRight_VTG.csv\n",
      "File saved: mapping_van_2024-06-20-15-25-21_0/Trigger_diag.csv\n",
      "File saved: mapping_van_2024-06-20-15-25-21_0/ntrip_info.csv\n",
      "File saved: mapping_van_2024-06-20-15-25-21_0/parseEncoder.csv\n",
      "File saved: mapping_van_2024-06-20-15-25-21_0/parseTrigger.csv\n",
      "File saved: mapping_van_2024-06-20-15-25-21_0/rosout.csv\n",
      "File saved: mapping_van_2024-06-20-15-25-21_0/rosout_agg.csv\n",
      "File saved: mapping_van_2024-06-20-15-25-21_0/sick_lms_5xx-scan.csv\n",
      "File saved: mapping_van_2024-06-20-15-25-21_0/velodyne_packets.csv\n",
      "Total Time:  4.974632263183594\n"
     ]
    }
   ],
   "source": [
    "start_time = time.time()                    # Keep track of start time\n",
    "\n",
    "#bag_file_name = 'test_parse.bag'            # Set bag file name\n",
    "bag_file_name = 'mapping_van_2024-06-20-15-25-21_0.bag'\n",
    "b = bagreader(bag_file_name)                # Set a variable 'b' to the bag file using bagreader library\n",
    "#b.topic_table                              # Produce the table\n",
    "\n",
    "topic_lst = b.topic_table.Topics.unique()   # Create a list of the different topics\n",
    "for topic in topic_lst:\n",
    "    data = b.message_by_topic(topic)        # For each topic, parse and write to CSV file\n",
    "    print(\"File saved: {}\".format(data))    # Inform user that file has been saved\n",
    "\n",
    "'''\n",
    "Note: After this loop is run, a new folder with the same name as the bag file will be created with a CSV file\n",
    "for each topic. If needed, rename this folder to be more specific. \n",
    "''' \n",
    "\n",
    "end_time = time.time()\n",
    "total_time = end_time - start_time\n",
    "print(\"Total Time: \", total_time)           # Calculate total run time (also given by Jupyter Notebook)"
   ]
  }
 ],
 "metadata": {
  "kernelspec": {
   "display_name": "Python 3",
   "language": "python",
   "name": "python3"
  },
  "language_info": {
   "codemirror_mode": {
    "name": "ipython",
    "version": 3
   },
   "file_extension": ".py",
   "mimetype": "text/x-python",
   "name": "python",
   "nbconvert_exporter": "python",
   "pygments_lexer": "ipython3",
   "version": "3.10.1"
  }
 },
 "nbformat": 4,
 "nbformat_minor": 2
}
